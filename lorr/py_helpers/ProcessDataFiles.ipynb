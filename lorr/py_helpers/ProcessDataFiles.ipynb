{
 "cells": [
  {
   "cell_type": "code",
   "execution_count": 5,
   "metadata": {},
   "outputs": [],
   "source": [
    "import os\n",
    "import pandas as pd\n",
    "from shutil import copyfile\n",
    "import pandas as pd\n",
    "import numpy as np"
   ]
  },
  {
   "cell_type": "markdown",
   "metadata": {},
   "source": [
    "# 1. Copy and Rename Files (Rename files in this format \"IDM_AVRider_Algorithm--10IDM_12Algorithm.csv\")"
   ]
  },
  {
   "cell_type": "markdown",
   "metadata": {},
   "source": [
    "## Variables"
   ]
  },
  {
   "cell_type": "code",
   "execution_count": 6,
   "metadata": {},
   "outputs": [],
   "source": [
    "#Changing these variables can break the program\n",
    "input_path = \"./input_data/\" \n",
    "output_path = \"./output_data/\""
   ]
  },
  {
   "cell_type": "markdown",
   "metadata": {},
   "source": [
    "# NOTE： YOU SHOULD MODIFY/REWRITE THE FOLLOWING CELL BECAUSE THE NAMING CONVENTION MAY HAVE CHANGED！"
   ]
  },
  {
   "cell_type": "code",
   "execution_count": 8,
   "metadata": {},
   "outputs": [
    {
     "name": "stdout",
     "output_type": "stream",
     "text": [
      "input_data----IDM_AVRider_MLYAU1--16IDM_6MLYAU1--1HVInterval.csv CREATED!\n"
     ]
    }
   ],
   "source": [
    "# Rename the filenames\n",
    "\n",
    "# create a output directory if not exists\n",
    "if not os.path.exists(output_path):\n",
    "    os.makedirs(output_path)\n",
    "    \n",
    "# copy and rename each file    \n",
    "for dir_path, subdir_list, file_list in os.walk(input_path):\n",
    "    if file_list:\n",
    "#         print(dir_path) # full path\n",
    "#         print(file_list)\n",
    "        splited_path = dir_path.split('/')\n",
    "        dirs = splited_path[-2:] # get the last two directory name TODO: fix this\n",
    "        new_filename = dirs[0] + \"--\" + dirs[1] + \"--\" + file_list[0] # format: dir1--dir2--filename TODO: fix this\n",
    "        copyfile(dir_path+\"/\"+file_list[0], output_path + new_filename) # make a copy of the file\n",
    "        print(new_filename + \" CREATED!\")"
   ]
  },
  {
   "cell_type": "markdown",
   "metadata": {},
   "source": [
    "# 2. Add/Modify Column and Keep the Desired Columns for Visualization \n"
   ]
  },
  {
   "cell_type": "markdown",
   "metadata": {},
   "source": [
    "## Variables"
   ]
  },
  {
   "cell_type": "code",
   "execution_count": 6,
   "metadata": {},
   "outputs": [],
   "source": [
    "# these variables are used to calculate absolute position\n",
    "total_len = 260\n",
    "edgestarts = {\n",
    "    ':bottom_0': 0,\n",
    "    'bottom': 0,\n",
    "    ':right_0': total_len / 4,\n",
    "    'right': total_len / 4,\n",
    "    ':top_0': total_len / 2,\n",
    "    'top': total_len / 2,\n",
    "    ':left_0': 3 * total_len / 4,\n",
    "    'left': 3 * total_len / 4\n",
    "}"
   ]
  },
  {
   "cell_type": "markdown",
   "metadata": {},
   "source": [
    "# Functions\n"
   ]
  },
  {
   "cell_type": "markdown",
   "metadata": {},
   "source": [
    "Will add a column named \"abs_pos\" to each data and keeps the column we need for visualization."
   ]
  },
  {
   "cell_type": "code",
   "execution_count": 7,
   "metadata": {},
   "outputs": [],
   "source": [
    "def get_abs_pos(edge, rel_pos, edgestarts):\n",
    "    \"\"\"Compute the absolute positions based on edges and relative positions.\"\"\"\n",
    "    return rel_pos + edgestarts[edge]"
   ]
  },
  {
   "cell_type": "code",
   "execution_count": 8,
   "metadata": {},
   "outputs": [],
   "source": [
    "def modify_column(in_path, out_path, col_to_modify, col_val_f, cols_to_keep=None):\n",
    "    \"\"\"\n",
    "    in_path: str\n",
    "    out_path: str\n",
    "    col_to_modify: str\n",
    "    col_val_f: a function\n",
    "    cols_to_keep: list\n",
    "    \n",
    "    For each file in in_path, apply the function col_var_f to each row such that it modifies (or adds if the \n",
    "    column doesn't exist) a column named col_to_modify. Finally it only keep the columns specified by cols_to_keep\n",
    "    when exporting the files in out_path.\n",
    "    \n",
    "    Note: If cols_to_keep is None or its len is 0, then we keep all columns by default.\n",
    "    \"\"\"\n",
    "    # get all filenames\n",
    "    filenames = []\n",
    "    for dir_path, subdir_list, file_list in os.walk(in_path):\n",
    "        for f in file_list:\n",
    "            filenames.append(f)\n",
    "#     print(*filenames, sep='\\n')\n",
    "\n",
    "    # create a output directory if not exists\n",
    "    if not os.path.exists(out_path):\n",
    "        os.makedirs(out_path)\n",
    "\n",
    "    count = 0\n",
    "    for dir_path, subdir_list, file_list in os.walk(in_path):\n",
    "        for f in file_list:\n",
    "            print(\"processing \" + f)\n",
    "            df = pd.read_csv(dir_path + f)\n",
    "            df[col_to_modify] = df.apply (col_val_f, axis=1)\n",
    "            if cols_to_keep and len(cols_to_keep) > 0:\n",
    "                df[cols_to_keep].to_csv(out_path + filenames[count])\n",
    "            else:\n",
    "                df.to_csv(out_path + filenames[count])\n",
    "            count += 1\n",
    "    print(\"Processed \" + str(count) + \" files!\")"
   ]
  },
  {
   "cell_type": "code",
   "execution_count": 9,
   "metadata": {},
   "outputs": [
    {
     "name": "stdout",
     "output_type": "stream",
     "text": [
      "processing IDM_AVRider_LinOpt--0IDM_22LinOpt--platooned.csv\n",
      "processing IDM_AVRider_MLYAU1--17IDM_5MLYAU1--1HVInterval.csv\n",
      "processing IDM_AVRider_LinOpt--14IDM_8LinOpt--platooned.csv\n",
      "processing IDM_AVRider_MLYAU1--2IDM_20MLYAU1--platooned.csv\n",
      "processing IDM_AVRider_LinOpt--13IDM_9LinOpt--EVEN.csv\n",
      "processing IDM_AVRider_MLYAU1--18IDM_4MLYAU1--1HVInterval.csv\n",
      "processing IDM_AVRider_LinOpt--21IDM_1LinOpt--platooned.csv\n",
      "processing IDM_AVRider_MLYAU1--20IDM_2MLYAU1--platooned.csv\n",
      "processing IDM_AVRider_MLYAU1--14IDM_8MLYAU1--platooned.csv\n",
      "processing IDM_AVRider_MLYAU1--12IDM_10MLYAU1--platooned.csv\n",
      "processing IDM_AVRider_MLYAU1--10IDM_12MLYAU1--platooned.csv\n",
      "processing IDM_AVRider_LinOpt--17IDM_5LinOpt--platooned.csv\n",
      "processing IDM_AVRider_MLYAU1--12IDM_10MLYAU1--1HVInterval.csv\n",
      "processing IDM_AVRider_LinOpt--20IDM_2LinOpt--EVEN.csv\n",
      "processing IDM_AVRider_MLYAU1--11IDM_11MLYAU1--platooned.csv\n",
      "processing IDM_AVRider_LinOpt--18IDM_4LinOpt--1HVInterval.csv\n",
      "processing IDM_AVRider_LinOpt--8IDM_14LinOpt--platooned.csv\n",
      "processing IDM_AVRider_MLYAU1--3IDM_19MLYAU1--platooned.csv\n",
      "processing IDM_AVRider_LinOpt--17IDM_5LinOpt--1HVInterval.csv\n",
      "processing IDM_AVRider_LinOpt--10IDM_12LinOpt--platooned.csv\n",
      "processing IDM_AVRider_MLYAU1--16IDM_6MLYAU1--1HVInterval.csv\n",
      "processing IDM_AVRider_LinOpt--20IDM_2LinOpt--platooned.csv\n",
      "processing IDM_AVRider_LinOpt--19IDM_3LinOpt--platooned.csv\n",
      "processing IDM_AVRider_LinOpt--20IDM_2LinOpt--1HVInterval.csv\n",
      "processing IDM_AVRider_MLYAU1--16IDM_6MLYAU1--platooned.csv\n",
      "processing IDM_AVRider_LinOpt--15IDM_7LinOpt--EVEN.csv\n",
      "processing IDM_AVRider_MLYAU1--15IDM_7MLYAU1--1HVInterval.csv\n",
      "processing IDM_AVRider_LinOpt--16IDM_6LinOpt--platooned.csv\n",
      "processing IDM_AVRider_MLYAU1--18IDM_4MLYAU1--platooned.csv\n",
      "processing IDM_AVRider_LinOpt--5IDM_17LinOpt--platooned.csv\n",
      "processing IDM_AVRider_MLYAU1--21IDM_1MLYAU1--platooned.csv\n",
      "processing IDM_AVRider_LinOpt--17IDM_5LinOpt--EVEN.csv\n",
      "processing IDM_AVRider_MLYAU1--14IDM_8MLYAU1--EVEN.csv\n",
      "processing IDM_AVRider_LinOpt--12IDM_10LinOpt--1HVInterval.csv\n",
      "processing IDM_AVRider_MLYAU1--13IDM_9MLYAU1--1HVInterval.csv\n",
      "processing IDM_AVRider_MLYAU1--7IDM_15MLYAU1--platooned.csv\n",
      "processing IDM_AVRider_MLYAU1--16IDM_6MLYAU1--EVEN.csv\n",
      "processing IDM_AVRider_MLYAU1--12IDM_10MLYAU1--EVEN.csv\n",
      "processing IDM_AVRider_LinOpt--3IDM_19LinOpt--platooned.csv\n",
      "processing IDM_AVRider_LinOpt--19IDM_3LinOpt--EVEN.csv\n",
      "processing IDM_AVRider_LinOpt--12IDM_10LinOpt--platooned.csv\n",
      "processing IDM_AVRider_LinOpt--16IDM_6LinOpt--1HVInterval.csv\n",
      "processing IDM_AVRider_LinOpt--6IDM_16LinOpt--platooned.csv\n",
      "processing IDM_AVRider_MLYAU1--17IDM_5MLYAU1--EVEN.csv\n",
      "processing IDM_AVRider_MLYAU1--20IDM_2MLYAU1--1HVInterval.csv\n",
      "processing IDM_AVRider_MLYAU1--20IDM_2MLYAU1--EVEN.csv\n",
      "processing IDM_AVRider_LinOpt--13IDM_9LinOpt--platooned.csv\n",
      "processing IDM_AVRider_LinOpt--16IDM_6LinOpt--EVEN.csv\n",
      "processing IDM_AVRider_LinOpt--2IDM_20LinOpt--platooned.csv\n",
      "processing IDM_AVRider_LinOpt--19IDM_3LinOpt--1HVInterval.csv\n",
      "processing IDM_AVRider_MLYAU1--1IDM_21MLYAU1--platooned.csv\n",
      "processing IDM_AVRider_MLYAU1--8IDM_14MLYAU1--platooned.csv\n",
      "processing IDM_AVRider_LinOpt--11IDM_11LinOpt--1HVInterval.csv\n",
      "processing IDM_AVRider_MLYAU1--5IDM_17MLYAU1--platooned.csv\n",
      "processing IDM_AVRider_LinOpt--22IDM_0LinOpt--platooned.csv\n",
      "processing IDM_AVRider_MLYAU1--13IDM_9MLYAU1--platooned.csv\n",
      "processing IDM_AVRider_MLYAU1--19IDM_3MLYAU1--EVEN.csv\n",
      "processing IDM_AVRider_MLYAU1--22IDM_0MLYAU1--platooned.csv\n",
      "processing IDM_AVRider_LinOpt--15IDM_7LinOpt--platooned.csv\n",
      "processing IDM_AVRider_LinOpt--15IDM_7LinOpt--1HVInterval.csv\n",
      "processing IDM_AVRider_MLYAU1--17IDM_5MLYAU1--platooned.csv\n",
      "processing IDM_AVRider_MLYAU1--4IDM_18MLYAU1--platooned.csv\n",
      "processing IDM_AVRider_LinOpt--14IDM_8LinOpt--EVEN.csv\n",
      "processing IDM_AVRider_LinOpt--9IDM_13LinOpt--platooned.csv\n",
      "processing IDM_AVRider_LinOpt--11IDM_11LinOpt--EVEN.csv\n",
      "processing IDM_AVRider_MLYAU1--6IDM_16MLYAU1--platooned.csv\n",
      "processing IDM_AVRider_MLYAU1--14IDM_8MLYAU1--1HVInterval.csv\n",
      "processing IDM_AVRider_LinOpt--12IDM_10LinOpt--EVEN.csv\n",
      "processing IDM_AVRider_LinOpt--7IDM_15LinOpt--platooned.csv\n",
      "processing IDM_AVRider_MLYAU1--18IDM_4MLYAU1--EVEN.csv\n",
      "processing IDM_AVRider_LinOpt--1IDM_21LinOpt--platooned.csv\n",
      "processing IDM_AVRider_LinOpt--14IDM_8LinOpt--1HVInterval.csv\n",
      "processing IDM_AVRider_LinOpt--4IDM_18LinOpt--platooned.csv\n",
      "processing IDM_AVRider_MLYAU1--9IDM_13MLYAU1--platooned.csv\n",
      "processing IDM_AVRider_LinOpt--11IDM_11LinOpt--platooned.csv\n",
      "processing IDM_AVRider_MLYAU1--15IDM_7MLYAU1--platooned.csv\n",
      "processing IDM_AVRider_MLYAU1--11IDM_11MLYAU1--1HVInterval.csv\n",
      "processing IDM_AVRider_LinOpt--18IDM_4LinOpt--EVEN.csv\n",
      "processing IDM_AVRider_MLYAU1--19IDM_3MLYAU1--platooned.csv\n",
      "processing IDM_AVRider_MLYAU1--13IDM_9MLYAU1--EVEN.csv\n",
      "processing IDM_AVRider_MLYAU1--0IDM_22MLYAU1--platooned.csv\n",
      "processing IDM_AVRider_LinOpt--18IDM_4LinOpt--platooned.csv\n",
      "processing IDM_AVRider_MLYAU1--15IDM_7MLYAU1--EVEN.csv\n",
      "processing IDM_AVRider_MLYAU1--19IDM_3MLYAU1--1HVInterval.csv\n",
      "processing IDM_AVRider_MLYAU1--11IDM_11MLYAU1--EVEN.csv\n",
      "processing IDM_AVRider_LinOpt--13IDM_9LinOpt--1HVInterval.csv\n",
      "Processed 86 files!\n"
     ]
    }
   ],
   "source": [
    "input_path = \"./input_data/\"\n",
    "output_path = \"./processed/\"\n",
    "modify_column(input_path, \n",
    "              output_path, \n",
    "              'abs_pos', \n",
    "              (lambda row: get_abs_pos(row.edge_id, row.relative_position, edgestarts)), \n",
    "              [\"time\", \"id\", \"abs_pos\", \"CO\", \"NOx\", \"fuel\", \"PMx\", \"speed\", \"veh_cls\", \"x\", \"y\", \"angle\"])"
   ]
  },
  {
   "cell_type": "markdown",
   "metadata": {},
   "source": []
  },
  {
   "cell_type": "code",
   "execution_count": null,
   "metadata": {},
   "outputs": [],
   "source": []
  },
  {
   "cell_type": "code",
   "execution_count": null,
   "metadata": {},
   "outputs": [],
   "source": []
  }
 ],
 "metadata": {
  "kernelspec": {
   "display_name": "Python 3",
   "language": "python",
   "name": "python3"
  },
  "language_info": {
   "codemirror_mode": {
    "name": "ipython",
    "version": 3
   },
   "file_extension": ".py",
   "mimetype": "text/x-python",
   "name": "python",
   "nbconvert_exporter": "python",
   "pygments_lexer": "ipython3",
   "version": "3.7.3"
  }
 },
 "nbformat": 4,
 "nbformat_minor": 2
}
